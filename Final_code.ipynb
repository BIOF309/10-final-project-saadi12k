{
 "cells": [
  {
   "cell_type": "markdown",
   "metadata": {},
   "source": [
    "# Our objective is to analyze the Data gathered using the streaming API"
   ]
  },
  {
   "cell_type": "markdown",
   "metadata": {},
   "source": [
    "#### We will amke use of 4 different libraries: 1) json for parsing the data 2) pandas for data manipulation 3) matplotlib for charting the data and 4) re for regular expressions"
   ]
  },
  {
   "cell_type": "markdown",
   "metadata": {},
   "source": [
    "we need to first set our directory to the specific folder (this is to be changed to fit each situation)"
   ]
  },
  {
   "cell_type": "code",
   "execution_count": 1,
   "metadata": {},
   "outputs": [
    {
     "name": "stdout",
     "output_type": "stream",
     "text": [
      "C:\\Users\\Hassan Saadi\\Desktop\\Python_Final\n"
     ]
    }
   ],
   "source": [
    "cd Desktop/Python_Final/"
   ]
  },
  {
   "cell_type": "code",
   "execution_count": 2,
   "metadata": {},
   "outputs": [],
   "source": [
    "# we first import the libraries\n",
    "import json\n",
    "import pandas as pd\n",
    "import matplotlib.pyplot as plt\n",
    "import re\n",
    "import numpy as np"
   ]
  },
  {
   "cell_type": "markdown",
   "metadata": {},
   "source": [
    "#### we define a function that will first check the data set for text in individual tweets and then within the text it will seasearch for the word specified\n"
   ]
  },
  {
   "cell_type": "code",
   "execution_count": 3,
   "metadata": {},
   "outputs": [],
   "source": [
    "# we define a function that will first check the data set for text in individual tweets and then within the text it will seasearch for the word specified\n",
    "def word_in_text(word, text):\n",
    "    if text == None:\n",
    "        return False\n",
    "    word = word.lower()\n",
    "    text = text.lower()\n",
    "    match = re.search(word, text)\n",
    "    if match:\n",
    "        return True\n",
    "    return False"
   ]
  },
  {
   "cell_type": "markdown",
   "metadata": {},
   "source": [
    "## Reading Tweets\n",
    "\n",
    "#### we first import the json file that we collected using the streaming API"
   ]
  },
  {
   "cell_type": "code",
   "execution_count": 4,
   "metadata": {},
   "outputs": [
    {
     "name": "stdout",
     "output_type": "stream",
     "text": [
      "Reading Tweets\n",
      "\n",
      "The number of tweets collected is 167704\n"
     ]
    }
   ],
   "source": [
    "# Reading Tweets\n",
    "# we first import the json file that we collected using the streaming API\n",
    "print('Reading Tweets\\n')\n",
    "tweets_data_path = \"twitter_data.txt\"\n",
    "\n",
    "tweets_data = []\n",
    "tweets_file = open(tweets_data_path, \"r\")\n",
    "for line in tweets_file:\n",
    "    try:\n",
    "        tweet = json.loads(line)\n",
    "        tweets_data.append(tweet)\n",
    "    except:\n",
    "        continue\n",
    "\n",
    "print (\"The number of tweets collected is \" + str(len(tweets_data)))\n"
   ]
  },
  {
   "cell_type": "markdown",
   "metadata": {},
   "source": [
    "## Structuring Tweets\n",
    "#### We utilize pandas DataFrames for this purpose"
   ]
  },
  {
   "cell_type": "code",
   "execution_count": 5,
   "metadata": {},
   "outputs": [
    {
     "name": "stdout",
     "output_type": "stream",
     "text": [
      "Structuring Tweets\n",
      "\n"
     ]
    }
   ],
   "source": [
    "# Structuring Tweets\n",
    "#here we make use of pandas to define columns with data from the json file\n",
    "#we look at the text, language (lang), and country of origin regarding the tweet\n",
    "print('Structuring Tweets\\n')\n",
    "tweets = pd.DataFrame()\n",
    "\n",
    "#tweets['YOUR STRING HERE'] = list(map(lambda tweet: tweet.get('YOUR STRING HERE', None),tweets_data))\n",
    "tweets['text'] = list(map(lambda tweet: tweet.get('text', None),tweets_data))\n",
    "tweets['lang'] = list(map(lambda tweet: tweet.get('lang', None),tweets_data))\n",
    "tweets['country'] = list(map(lambda tweet: tweet.get('place',{}).get('country', None) if tweet.get('place') != None else None,tweets_data))"
   ]
  },
  {
   "cell_type": "markdown",
   "metadata": {},
   "source": [
    "## Analyzing Tweets by Language\n",
    "#### Here we get the language of each tweet and plot the top 10 using matplotlib"
   ]
  },
  {
   "cell_type": "code",
   "execution_count": 6,
   "metadata": {},
   "outputs": [
    {
     "name": "stdout",
     "output_type": "stream",
     "text": [
      "Analyzing tweets by language\n",
      "\n",
      "The number of languages used: 46\n"
     ]
    },
    {
     "data": {
      "image/png": "[encoded data removed]",
      "text/plain": [
       "<matplotlib.figure.Figure at 0x14dfc9f1860>"
      ]
     },
     "metadata": {},
     "output_type": "display_data"
    }
   ],
   "source": [
    "# Analyzing Tweets by Language\n",
    "#here we get the language of each tweet and plot the top 10\n",
    "print('Analyzing tweets by language\\n')\n",
    "tweets_by_lang = tweets['lang'].value_counts()\n",
    "\n",
    "fig, ax = plt.subplots()\n",
    "ax.tick_params(axis='x', labelsize=15)\n",
    "ax.tick_params(axis='y', labelsize=10)\n",
    "ax.set_xlabel('Languages', fontsize=15)\n",
    "ax.set_ylabel('Number of tweets' , fontsize=15)\n",
    "ax.set_title('Top 5 languages', fontsize=15, fontweight='bold')\n",
    "tweets_by_lang[:10].plot(ax=ax, kind='bar', color='red')\n",
    "plt.savefig('tweet_by_lang', format='png')\n",
    "print( \"The number of languages used: \" + str(len(tweets_by_lang)))\n",
    "plt.show()"
   ]
  },
  {
   "cell_type": "markdown",
   "metadata": {},
   "source": [
    "## Analyzing Tweets by Country\n",
    "#### Here we do a similar comparison as above but look at the country where the tweet originated (if any) and plot it again using matplotlib"
   ]
  },
  {
   "cell_type": "code",
   "execution_count": 7,
   "metadata": {},
   "outputs": [
    {
     "name": "stdout",
     "output_type": "stream",
     "text": [
      "Analyzing tweets by country\n",
      "\n"
     ]
    },
    {
     "data": {
      "image/png": "[encoded data removed]",
      "text/plain": [
       "<matplotlib.figure.Figure at 0x14e755ef080>"
      ]
     },
     "metadata": {},
     "output_type": "display_data"
    }
   ],
   "source": [
    "# Analyzing Tweets by Country\n",
    "#here we do a similar comparison as above but look at the country where the tweet originated (if any)\n",
    "print('Analyzing tweets by country\\n')\n",
    "tweets_by_country = tweets['country'].value_counts()\n",
    "\n",
    "fig, ax = plt.subplots()\n",
    "ax.tick_params(axis='x', labelsize=15)\n",
    "ax.tick_params(axis='y', labelsize=10)\n",
    "ax.set_xlabel('Countries', fontsize=15)\n",
    "ax.set_ylabel('Number of tweets' , fontsize=15)\n",
    "ax.set_title('Top 5 countries', fontsize=15, fontweight='bold')\n",
    "tweets_by_country[:20].plot(ax=ax, kind='bar', color='green')\n",
    "plt.savefig('tweet_by_country', format='png')\n",
    "plt.show()"
   ]
  },
  {
   "cell_type": "markdown",
   "metadata": {},
   "source": [
    "## Analysis of mentions per tweet for each individual sports\n",
    "\n",
    "#### now we introduce columns for the specific sport to analyze the mention of each sport and asses how many times the keyword is mentioned"
   ]
  },
  {
   "cell_type": "code",
   "execution_count": 8,
   "metadata": {},
   "outputs": [
    {
     "name": "stdout",
     "output_type": "stream",
     "text": [
      "Analyzing tweets by sports\n",
      "\n"
     ]
    }
   ],
   "source": [
    "#now we introduce columns for the specific sport to analyze the mention of each sport\n",
    "print('Analyzing tweets by sports\\n')\n",
    "tweets['basketball'] = tweets['text'].apply(lambda tweet: word_in_text('basketball', tweet))\n",
    "tweets['soccer'] = tweets['text'].apply(lambda tweet: word_in_text('soccer', tweet))\n",
    "tweets['football'] = tweets['text'].apply(lambda tweet: word_in_text('football', tweet))"
   ]
  },
  {
   "cell_type": "markdown",
   "metadata": {},
   "source": [
    "#### The raw mentions of each sport"
   ]
  },
  {
   "cell_type": "code",
   "execution_count": 9,
   "metadata": {},
   "outputs": [
    {
     "name": "stdout",
     "output_type": "stream",
     "text": [
      "The total number of mention of each respective sport are as follows:\n",
      "basketball 29044\n",
      "soccer 17700\n",
      "football 67411\n"
     ]
    }
   ],
   "source": [
    "#Here we have the frequency of each keyword used, in this case the name of the three sports\n",
    "print(\"The total number of mention of each respective sport are as follows:\")\n",
    "print('basketball', tweets['basketball'].value_counts()[True])\n",
    "print(\"soccer\", tweets['soccer'].value_counts()[True])\n",
    "print(\"football\", tweets['football'].value_counts()[True])"
   ]
  },
  {
   "cell_type": "markdown",
   "metadata": {},
   "source": [
    "### The ranking of each respective sport by their names"
   ]
  },
  {
   "cell_type": "code",
   "execution_count": 10,
   "metadata": {},
   "outputs": [
    {
     "data": {
      "image/png": "[encoded data removed]",
      "text/plain": [
       "<matplotlib.figure.Figure at 0x14e755ef7b8>"
      ]
     },
     "metadata": {},
     "output_type": "display_data"
    }
   ],
   "source": [
    "#similar to before, we plot the ranking of each sport respectively\n",
    "type_sport = ['basketball', 'soccer', 'football']\n",
    "tweets_by_type_sport = [tweets['basketball'].value_counts()[True], tweets['soccer'].value_counts()[True], tweets['football'].value_counts()[True]]\n",
    "\n",
    "x_pos = list(range(len(type_sport)))\n",
    "width = 0.5\n",
    "fig, ax = plt.subplots()\n",
    "plt.bar(x_pos, tweets_by_type_sport, width, alpha=1, color='g')\n",
    "ax.set_ylabel('Number of tweets', fontsize=15)\n",
    "ax.set_title('Ranking: basketball vs. soccer vs. football (english + american) (Raw data)', fontsize=10, fontweight='bold')\n",
    "ax.set_xticks([p + 0.4 * width for p in x_pos])\n",
    "ax.set_xticklabels(type_sport)\n",
    "plt.grid()\n",
    "plt.savefig('tweets_by_type_sport_1', format='png')\n",
    "plt.show()"
   ]
  },
  {
   "cell_type": "markdown",
   "metadata": {},
   "source": [
    "## Analysis of mentions per tweet for a star individual in their respective sport\n",
    "\n",
    "#### now we introduce columns for each individual in question and access if the keyword (name) is mentioned in the respective tweet"
   ]
  },
  {
   "cell_type": "code",
   "execution_count": 11,
   "metadata": {},
   "outputs": [
    {
     "name": "stdout",
     "output_type": "stream",
     "text": [
      "Analyzing tweets by a popular player in each respective sport\n"
     ]
    }
   ],
   "source": [
    "#No we do a similar comparison but now with a popular name in each respective sport\n",
    "#first we define columns such that we can check if the givem name is mentioned in a tweet\n",
    "print('Analyzing tweets by a popular player in each respective sport')\n",
    "tweets['lebron'] = tweets['text'].apply(lambda tweet: word_in_text('lebron', tweet))\n",
    "tweets['ronaldo'] = tweets['text'].apply(lambda tweet: word_in_text('ronaldo', tweet))\n",
    "tweets['brady'] = tweets['text'].apply(lambda tweet: word_in_text('brady', tweet))"
   ]
  },
  {
   "cell_type": "markdown",
   "metadata": {},
   "source": [
    "### The mention of each individual in the data set"
   ]
  },
  {
   "cell_type": "code",
   "execution_count": 12,
   "metadata": {},
   "outputs": [
    {
     "name": "stdout",
     "output_type": "stream",
     "text": [
      "The total number of mention of each respective player are as follows:\n",
      "Lebron 199\n",
      "Ronaldo 1934\n",
      "Brady 51\n"
     ]
    }
   ],
   "source": [
    "#We first look at the mention for each player\n",
    "print(\"The total number of mention of each respective player are as follows:\")\n",
    "print('Lebron', tweets['lebron'].value_counts()[True])\n",
    "print(\"Ronaldo\", tweets['ronaldo'].value_counts()[True])\n",
    "print(\"Brady\", tweets['brady'].value_counts()[True])"
   ]
  },
  {
   "cell_type": "markdown",
   "metadata": {},
   "source": [
    "### The plot for ranking by star player"
   ]
  },
  {
   "cell_type": "code",
   "execution_count": 13,
   "metadata": {},
   "outputs": [
    {
     "data": {
      "image/png": "[encoded data removed]",
      "text/plain": [
       "<matplotlib.figure.Figure at 0x14e76d79eb8>"
      ]
     },
     "metadata": {},
     "output_type": "display_data"
    }
   ],
   "source": [
    "#now we plot the data as before\n",
    "pop_players = ['lebron', 'ronaldo', 'brady']\n",
    "tweets_by_pop_players = [tweets['lebron'].value_counts()[True], tweets['ronaldo'].value_counts()[True], tweets['brady'].value_counts()[True]]\n",
    "\n",
    "x_pos = list(range(len(pop_players)))\n",
    "width = 0.5\n",
    "fig, ax = plt.subplots()\n",
    "plt.bar(x_pos, tweets_by_pop_players, width, alpha=1, color='g')\n",
    "ax.set_ylabel('Number of tweets', fontsize=15)\n",
    "ax.set_title('Ranking: Lebron vs. Ronaldo vs. Brady (Raw data)', fontsize=10, fontweight='bold')\n",
    "ax.set_xticks([p + 0.4 * width for p in x_pos])\n",
    "ax.set_xticklabels(pop_players)\n",
    "plt.grid()\n",
    "plt.savefig('tweets_by_pop_players', format='png')\n",
    "plt.show()"
   ]
  },
  {
   "cell_type": "code",
   "execution_count": null,
   "metadata": {},
   "outputs": [],
   "source": []
  }
 ],
 "metadata": {
  "kernelspec": {
   "display_name": "Python 3",
   "language": "python",
   "name": "python3"
  },
  "language_info": {
   "codemirror_mode": {
    "name": "ipython",
    "version": 3
   },
   "file_extension": ".py",
   "mimetype": "text/x-python",
   "name": "python",
   "nbconvert_exporter": "python",
   "pygments_lexer": "ipython3",
   "version": "3.6.3"
  }
 },
 "nbformat": 4,
 "nbformat_minor": 2
}
